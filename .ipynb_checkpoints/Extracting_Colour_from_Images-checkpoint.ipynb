{
 "cells": [
  {
   "cell_type": "code",
   "execution_count": 3,
   "id": "663f43b3",
   "metadata": {},
   "outputs": [
    {
     "ename": "ModuleNotFoundError",
     "evalue": "No module named 'colorgram'",
     "output_type": "error",
     "traceback": [
      "\u001b[1;31m---------------------------------------------------------------------------\u001b[0m",
      "\u001b[1;31mModuleNotFoundError\u001b[0m                       Traceback (most recent call last)",
      "Input \u001b[1;32mIn [3]\u001b[0m, in \u001b[0;36m<cell line: 2>\u001b[1;34m()\u001b[0m\n\u001b[0;32m      1\u001b[0m \u001b[38;5;28;01mfrom\u001b[39;00m \u001b[38;5;21;01mturtle\u001b[39;00m \u001b[38;5;28;01mimport\u001b[39;00m Turtle, Screen, colormode\n\u001b[1;32m----> 2\u001b[0m \u001b[38;5;28;01mimport\u001b[39;00m \u001b[38;5;21;01mcolorgram\u001b[39;00m\n\u001b[0;32m      4\u001b[0m colors \u001b[38;5;241m=\u001b[39m colorgram\u001b[38;5;241m.\u001b[39mextract(\u001b[38;5;124m\"\u001b[39m\u001b[38;5;124mButterfly_image.jpg\u001b[39m\u001b[38;5;124m\"\u001b[39m, \u001b[38;5;241m50\u001b[39m)\n\u001b[0;32m      5\u001b[0m tim \u001b[38;5;241m=\u001b[39m Turtle()\n",
      "\u001b[1;31mModuleNotFoundError\u001b[0m: No module named 'colorgram'"
     ]
    }
   ],
   "source": [
    "from turtle import Turtle, Screen, colormode\n",
    "import colorgram\n",
    "\n",
    "colors = colorgram.extract(\"Butterfly_image.jpg\", 50)\n",
    "tim = Turtle()\n",
    "screen = Screen()\n",
    "colormode(255)\n",
    "color_list = []\n",
    "for color in colors:\n",
    "    r = color.rgb.r\n",
    "    g = color.rgb.g\n",
    "    b = color.rgb.b\n",
    "    col = (r, g, b)\n",
    "    color_list.append(col)\n",
    "print(color_list)\n",
    "print(len(color_list))"
   ]
  }
 ],
 "metadata": {
  "kernelspec": {
   "display_name": "Python 3 (ipykernel)",
   "language": "python",
   "name": "python3"
  },
  "language_info": {
   "codemirror_mode": {
    "name": "ipython",
    "version": 3
   },
   "file_extension": ".py",
   "mimetype": "text/x-python",
   "name": "python",
   "nbconvert_exporter": "python",
   "pygments_lexer": "ipython3",
   "version": "3.9.12"
  }
 },
 "nbformat": 4,
 "nbformat_minor": 5
}

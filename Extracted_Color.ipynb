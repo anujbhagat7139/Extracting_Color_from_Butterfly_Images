{
 "cells": [
  {
   "cell_type": "code",
   "execution_count": null,
   "id": "fc3110cb",
   "metadata": {},
   "outputs": [],
   "source": [
    "from turtle import Turtle, Screen, colormode\n",
    "import random\n",
    "colormode(255)\n",
    "tim = Turtle()\n",
    "color_list = [(34, 103, 181), (52, 196, 32), (168, 166, 28), (158, 18, 116), (234, 137, 42), (159, 94, 29),\n",
    "              (41, 184, 232), (150, 48, 129), (26, 35, 68), (47, 42, 135), (13, 188, 228), (60, 39, 19), (59, 23, 52),\n",
    "              (42, 119, 226), (43, 128, 49), (204, 236, 8), (21, 53, 26), (246, 88, 20), (210, 238, 26), (182, 46, 184),\n",
    "              (27, 92, 35), (83, 84, 15), (77, 202, 69), (141, 31, 20), (176, 10, 223), (14, 83, 102), (13, 243, 254),\n",
    "              (169, 130, 150), (0, 245, 253), (23, 251, 215), (74, 36, 235), (1, 249, 246), (204, 236, 8)]\n",
    "screen = Screen()\n",
    "u = 0\n",
    "v = 0\n",
    "tim.penup()\n",
    "tim.setpos(-100, -100)\n",
    "for i in range(7):\n",
    "    for _ in range(7):\n",
    "        tim.dot(20, random.choice(color_list))\n",
    "        tim.forward(50)\n",
    "        u += 1\n",
    "    v += 50\n",
    "    tim.setpos(-100, -100 + v)\n",
    "print(len(color_list))\n",
    "screen.exitonclick()"
   ]
  }
 ],
 "metadata": {
  "kernelspec": {
   "display_name": "Python 3 (ipykernel)",
   "language": "python",
   "name": "python3"
  },
  "language_info": {
   "codemirror_mode": {
    "name": "ipython",
    "version": 3
   },
   "file_extension": ".py",
   "mimetype": "text/x-python",
   "name": "python",
   "nbconvert_exporter": "python",
   "pygments_lexer": "ipython3",
   "version": "3.9.12"
  }
 },
 "nbformat": 4,
 "nbformat_minor": 5
}
